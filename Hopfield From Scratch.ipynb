{
  "nbformat": 4,
  "nbformat_minor": 0,
  "metadata": {
    "colab": {
      "provenance": [],
      "toc_visible": true
    },
    "kernelspec": {
      "name": "python3",
      "display_name": "Python 3"
    },
    "language_info": {
      "name": "python"
    }
  },
  "cells": [
    {
      "cell_type": "markdown",
      "source": [
        "https://www.ncbi.nlm.nih.gov/pmc/articles/PMC346238/pdf/pnas00447-0135.pdf"
      ],
      "metadata": {
        "id": "Pma_ka86E_BA"
      }
    },
    {
      "cell_type": "code",
      "execution_count": null,
      "metadata": {
        "id": "D2GuN71o5Kps"
      },
      "outputs": [],
      "source": [
        "import numpy as np"
      ]
    },
    {
      "cell_type": "markdown",
      "source": [
        "Initializing state and weights. Each neuron $i$ has two states: $V_i=0$ (\"not firing\") and $V_i=1$ (\"firing at maximum rate\").\n",
        "\n"
      ],
      "metadata": {
        "id": "u-fAnrPdCxt1"
      }
    },
    {
      "cell_type": "code",
      "source": [
        "nodes = 5\n",
        "V = np.random.choice([0,1], [nodes])\n",
        "V"
      ],
      "metadata": {
        "colab": {
          "base_uri": "https://localhost:8080/"
        },
        "id": "1bONj3QYDL_7",
        "outputId": "d20f8f4b-f0eb-43c6-b1dd-9b8da90baad7"
      },
      "execution_count": null,
      "outputs": [
        {
          "output_type": "execute_result",
          "data": {
            "text/plain": [
              "array([1, 1, 0, 0, 1])"
            ]
          },
          "metadata": {},
          "execution_count": 74
        }
      ]
    },
    {
      "cell_type": "markdown",
      "source": [
        "The strength of connection is defined as $T_{ij}$."
      ],
      "metadata": {
        "id": "9tsyzN69FMAo"
      }
    },
    {
      "cell_type": "code",
      "source": [
        "# w = np.random.choice([0, 1], size=(nodes, nodes))\n",
        "T = np.random.randn(nodes, nodes)\n",
        "T = np.triu(T) + np.triu(T, 1).T\n",
        "T -= np.diag(np.diag(T))\n",
        "T"
      ],
      "metadata": {
        "colab": {
          "base_uri": "https://localhost:8080/"
        },
        "id": "I0YS0Evs_VWT",
        "outputId": "ca89501a-0763-40b3-e7fb-e40a0505394d"
      },
      "execution_count": null,
      "outputs": [
        {
          "output_type": "execute_result",
          "data": {
            "text/plain": [
              "array([[ 0.        ,  0.52136415, -1.72850411,  0.2672358 , -0.09124213],\n",
              "       [ 0.52136415,  0.        ,  0.26461448, -0.72565861, -0.16262786],\n",
              "       [-1.72850411,  0.26461448,  0.        ,  0.14368891,  0.51561318],\n",
              "       [ 0.2672358 , -0.72565861,  0.14368891,  0.        , -0.66581842],\n",
              "       [-0.09124213, -0.16262786,  0.51561318, -0.66581842,  0.        ]])"
            ]
          },
          "metadata": {},
          "execution_count": 75
        }
      ]
    },
    {
      "cell_type": "markdown",
      "source": [
        "The instantaneous state o the system is specified by listing the $N$ values of $V_i$, so it represented by a binary word of $N$ bits."
      ],
      "metadata": {
        "id": "Lyscdv-pC0gi"
      }
    },
    {
      "cell_type": "markdown",
      "source": [
        "The state changes in time according to the following algorithm. For each neuron $i$ there is a fixed threshold $U_i$. (Unless otherwise stated, we choose $U_i = 0$)."
      ],
      "metadata": {
        "id": "6VRzK9pUFvbi"
      }
    },
    {
      "cell_type": "code",
      "source": [
        "U = np.zeros([nodes])\n",
        "U"
      ],
      "metadata": {
        "colab": {
          "base_uri": "https://localhost:8080/"
        },
        "id": "cx7dJ5v3C17E",
        "outputId": "82577aa7-d859-4e61-f415-43e3be406366"
      },
      "execution_count": null,
      "outputs": [
        {
          "output_type": "execute_result",
          "data": {
            "text/plain": [
              "array([0., 0., 0., 0., 0.])"
            ]
          },
          "metadata": {},
          "execution_count": 76
        }
      ]
    },
    {
      "cell_type": "markdown",
      "source": [
        "Each neuron readjusts its state randomly in time but with a mean attempt rate W, setting\n",
        "\n",
        "$$\n",
        "V_i → 1 \\, \\text{if} \\, \\sum_{j \\neq i} T_{ij}V_j \\geq U_i\n",
        "$$\n",
        "\n",
        "and\n",
        "\n",
        "$$\n",
        "V_i → 0 \\, \\text{if} \\, \\sum_{j \\neq i} T_{ij}V_j < U_i\n",
        "$$"
      ],
      "metadata": {
        "id": "mP-sNW7-F97H"
      }
    },
    {
      "cell_type": "markdown",
      "source": [
        "Thus, each neuron randomly and asynchronously evaluates whether it is above or below threshold and readjusts accordingly."
      ],
      "metadata": {
        "id": "YArt90R3HFOx"
      }
    },
    {
      "cell_type": "markdown",
      "source": [
        "Suppose we wish to store the set of states $V^s$, $s = 1 \\cdots n$. We use the storage prescription\n",
        "\n",
        "$$\n",
        "T_{ij} = \\sum_s (2*V_i^s -1)(2*V_j^s -1)\n",
        "$$\n",
        "\n",
        "but with $T_{ii}=0$."
      ],
      "metadata": {
        "id": "WVVdAgDWHdrR"
      }
    },
    {
      "cell_type": "markdown",
      "source": [
        "Alright, let's try this out with a simple example state to store: $V^s = [[1,0,1,1,0]]$. Then"
      ],
      "metadata": {
        "id": "0cjUbYXlIVhk"
      }
    },
    {
      "cell_type": "code",
      "source": [
        "V_example = np.array([1,0,1,1,0])\n",
        "T_example = np.zeros([nodes, nodes])\n",
        "\n",
        "for i in range(nodes):\n",
        "  for j in range(nodes):\n",
        "    T_example[i,j] = (2*V_example[i] - 1) * (2*V_example[j] - 1)\n",
        "\n",
        "T_example -= np.diag(np.diag(T_example))\n",
        "T_example"
      ],
      "metadata": {
        "colab": {
          "base_uri": "https://localhost:8080/"
        },
        "id": "JsnduZVsISz3",
        "outputId": "125e1e9d-0538-4489-9828-03e6f7a3d8a3"
      },
      "execution_count": null,
      "outputs": [
        {
          "output_type": "execute_result",
          "data": {
            "text/plain": [
              "array([[ 0., -1.,  1.,  1., -1.],\n",
              "       [-1.,  0., -1., -1.,  1.],\n",
              "       [ 1., -1.,  0.,  1., -1.],\n",
              "       [ 1., -1.,  1.,  0., -1.],\n",
              "       [-1.,  1., -1., -1.,  0.]])"
            ]
          },
          "metadata": {},
          "execution_count": 80
        }
      ]
    },
    {
      "cell_type": "markdown",
      "source": [
        "So now `T_example` is the connection strength between each of the neurons."
      ],
      "metadata": {
        "id": "Qch7polDKsqn"
      }
    }
  ]
}